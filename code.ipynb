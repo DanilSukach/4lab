{
 "cells": [
  {
   "cell_type": "code",
   "execution_count": 5,
   "metadata": {},
   "outputs": [],
   "source": [
    "import pandas as pd\n",
    "file = \"data.csv\""
   ]
  },
  {
   "cell_type": "markdown",
   "metadata": {},
   "source": [
    "1 задание"
   ]
  },
  {
   "cell_type": "code",
   "execution_count": 13,
   "metadata": {},
   "outputs": [
    {
     "name": "stdout",
     "output_type": "stream",
     "text": [
      "                                          absolute path    class name\n",
      "0     C:\\Users\\user\\Desktop\\3lab\\dataset\\leopard\\000...       leopard\n",
      "1     C:\\Users\\user\\Desktop\\3lab\\dataset\\leopard\\000...       leopard\n",
      "2     C:\\Users\\user\\Desktop\\3lab\\dataset\\leopard\\000...       leopard\n",
      "3     C:\\Users\\user\\Desktop\\3lab\\dataset\\leopard\\000...       leopard\n",
      "4     C:\\Users\\user\\Desktop\\3lab\\dataset\\leopard\\000...       leopard\n",
      "...                                                 ...           ...\n",
      "2195  C:\\Users\\user\\Desktop\\3lab\\dataset\\tiger\\1095.jpg         tiger\n",
      "2196  C:\\Users\\user\\Desktop\\3lab\\dataset\\tiger\\1096.jpg         tiger\n",
      "2197  C:\\Users\\user\\Desktop\\3lab\\dataset\\tiger\\1097.jpg         tiger\n",
      "2198  C:\\Users\\user\\Desktop\\3lab\\dataset\\tiger\\1098.jpg         tiger\n",
      "2199  C:\\Users\\user\\Desktop\\3lab\\dataset\\tiger\\1099.jpg         tiger\n",
      "\n",
      "[2200 rows x 2 columns]\n"
     ]
    }
   ],
   "source": [
    "df = pd.read_csv(file, sep=\";\",names=[\"absolute path\",\"relative path\",\"   class name\"])\n",
    "df = df.drop([\"relative path\"], axis=1)\n",
    "print(df)"
   ]
  },
  {
   "cell_type": "code",
   "execution_count": 16,
   "metadata": {},
   "outputs": [
    {
     "ename": "SyntaxError",
     "evalue": "invalid syntax (2950964650.py, line 1)",
     "output_type": "error",
     "traceback": [
      "\u001b[1;36m  Cell \u001b[1;32mIn [16], line 1\u001b[1;36m\u001b[0m\n\u001b[1;33m    df = df.assign(Label = lambda x: x=1 if df[\"   class name\"]==\"leopard\" else x=0)\u001b[0m\n\u001b[1;37m                                      ^\u001b[0m\n\u001b[1;31mSyntaxError\u001b[0m\u001b[1;31m:\u001b[0m invalid syntax\n"
     ]
    }
   ],
   "source": [
    "df[\"label\"] = df.apply(lambda x: x = 0)\n"
   ]
  }
 ],
 "metadata": {
  "kernelspec": {
   "display_name": "Python 3.10.8 ('.venv': venv)",
   "language": "python",
   "name": "python3"
  },
  "language_info": {
   "codemirror_mode": {
    "name": "ipython",
    "version": 3
   },
   "file_extension": ".py",
   "mimetype": "text/x-python",
   "name": "python",
   "nbconvert_exporter": "python",
   "pygments_lexer": "ipython3",
   "version": "3.10.8"
  },
  "orig_nbformat": 4,
  "vscode": {
   "interpreter": {
    "hash": "8e9a6ae68d247aa24f9ba2eada554bc6c00f2de0d9d7d4e932e3753be42cfe55"
   }
  }
 },
 "nbformat": 4,
 "nbformat_minor": 2
}
